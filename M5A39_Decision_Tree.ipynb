{
  "nbformat": 4,
  "nbformat_minor": 0,
  "metadata": {
    "colab": {
      "provenance": [],
      "include_colab_link": true
    },
    "kernelspec": {
      "name": "python3",
      "display_name": "Python 3"
    }
  },
  "cells": [
    {
      "cell_type": "markdown",
      "metadata": {
        "id": "view-in-github",
        "colab_type": "text"
      },
      "source": [
        "<a href=\"https://colab.research.google.com/github/renatamontanhana/-Decision_Tree_1/blob/main/M5A39_Decision_Tree.ipynb\" target=\"_parent\"><img src=\"https://colab.research.google.com/assets/colab-badge.svg\" alt=\"Open In Colab\"/></a>"
      ]
    },
    {
      "cell_type": "markdown",
      "metadata": {
        "id": "WHSU8NShZedN"
      },
      "source": [
        "![alt text](https://encrypted-tbn0.gstatic.com/images?q=tbn%3AANd9GcTK4gQ9nhwHHaSXMHpeggWg7twwMCgb877smkRmtkmDeDoGF9Z6&usqp=CAU)"
      ]
    },
    {
      "cell_type": "markdown",
      "metadata": {
        "id": "7oiQVQi0AJ6D"
      },
      "source": [
        "# <font color='BLUE'>Cientista de Dados na Prática </font>\n",
        "\n",
        "# <font color='PURPLE'>Módulo 5 - Máquinas Preditivas</font>\n",
        "\n",
        "## <font color='GREY'> Decision Tree - Árvore de Decisão </font>\n",
        "![](https://www.analyticsvidhya.com/wp-content/uploads/2016/04/111.png)\n"
      ]
    },
    {
      "cell_type": "markdown",
      "metadata": {
        "id": "vXq9rkO_RGO0"
      },
      "source": [
        "## 1. **O que é uma árvore de decisão? Como funciona ?**\n",
        "A árvore de decisão é um tipo de algoritmo de aprendizado supervisionado (tendo uma variável de destino predefinida) que é usado principalmente em problemas de classificação. Ele funciona para variáveis ​​de entrada e saída categóricas e contínuas."
      ]
    },
    {
      "cell_type": "markdown",
      "metadata": {
        "id": "V9puwS16KKY7"
      },
      "source": [
        "### Terminologia relacionada a algoritmos baseados em árvore"
      ]
    },
    {
      "cell_type": "markdown",
      "metadata": {
        "id": "8pnOlRa3TBpk"
      },
      "source": [
        "![](https://cdn-images-1.medium.com/max/2000/0*IS9xKHt83nuERC9P)"
      ]
    },
    {
      "cell_type": "markdown",
      "metadata": {
        "id": "6sT1hExZKKt7"
      },
      "source": [
        "**Nó raiz:**  representa toda a população ou amostra e é posteriormente dividido em dois ou mais conjuntos homogêneos.\n",
        "\n",
        "**Divisão:**  é um processo de divisão de um nó em dois ou mais subnós.\n",
        "\n",
        "**Nó de decisão:**\n",
        " quando um subnó se divide em outros subnós, é chamado de nó de decisão.\n",
        "\n",
        "**Nó folha / terminal:** os  nós não se dividem é chamado de nó folha ou terminal.Terminologia importante relacionada a algoritmos baseados em árvore\n",
        "\n",
        "**Poda:**  quando removemos subnós de um nó de decisão, esse processo é chamado de poda. Você pode dizer processo oposto de divisão.\n",
        "\n",
        "**Ramificação / subárvore :**  uma subseção de toda a árvore é chamada de ramificação ou subárvore.\n",
        "\n",
        "**Nó pai e filho:** um nó, que é dividido em subnós, é chamado de nó pai de subnós, onde os subnós são os filhos do nó pai."
      ]
    },
    {
      "cell_type": "markdown",
      "metadata": {
        "id": "s8BTlI3VRdgb"
      },
      "source": [
        "![](https://www.analyticsvidhya.com/wp-content/uploads/2015/01/Decision_Tree_2.png)"
      ]
    },
    {
      "cell_type": "markdown",
      "metadata": {
        "id": "aAEq-0e8JuGB"
      },
      "source": [
        "\n",
        "### <font color='GREY'> Processo por dentro do Algoritmo </font>\n",
        "\n"
      ]
    },
    {
      "cell_type": "markdown",
      "metadata": {
        "id": "GRUy9iLXTUtJ"
      },
      "source": [
        "![](https://cdn-images-1.medium.com/max/2000/0*cant-HQdfMju-GxG)"
      ]
    },
    {
      "cell_type": "markdown",
      "metadata": {
        "id": "4wQAYauBKKwb"
      },
      "source": [
        "## 2. **Vantagens e Desvantagens da Decision Tree**\n",
        "\n"
      ]
    },
    {
      "cell_type": "markdown",
      "metadata": {
        "id": "V2j02okMA8YC"
      },
      "source": [
        "\n",
        "### Vantagens\n",
        "**Fácil de entender:** a saída da árvore de decisão é muito fácil de entender, mesmo para pessoas com experiência não analítica. Não requer nenhum conhecimento estatístico para lê-los e interpretá-los. Sua representação gráfica é muito intuitiva e os usuários podem facilmente relacionar suas hipóteses.\n",
        "\n",
        "**Útil na exploração de dados:** a  árvore de decisão é uma das maneiras mais rápidas de identificar as variáveis ​​mais significativas e a relação entre duas ou mais variáveis. Com a ajuda de árvores de decisão, podemos criar novas variáveis ​​/ recursos que têm melhor poder para prever a variável de destino. Também pode ser usado na fase de exploração de dados. Por exemplo, estamos trabalhando em um problema onde temos informações disponíveis em centenas de variáveis, sua árvore de decisão ajudará a identificar a variável mais significativa.\n",
        "\n",
        "**Menos limpeza de dados necessária:**  Requer menos limpeza de dados em comparação com algumas outras técnicas de modelagem. Não é influenciado por valores discrepantes e valores ausentes em um grau justo.\n",
        "\n",
        "**O tipo de dados não é uma restrição:**  ele pode lidar com variáveis ​​numéricas e categóricas.\n",
        "\n",
        "**Método Não Paramétrico:** A árvore de decisão é considerada um método não paramétrico. Isso significa que as árvores de decisão não têm suposições sobre a distribuição espacial e a estrutura do classificador.\n",
        "\n",
        "### Desvantagens\n",
        "\n",
        "**(Overfiting) Superajuste:** O  superajuste é uma das dificuldades mais práticas para modelos de árvore de decisão. Este problema é resolvido definindo restrições nos parâmetros do modelo e poda.\n",
        "\n"
      ]
    },
    {
      "cell_type": "markdown",
      "metadata": {
        "id": "wBA-6tfY7uf9"
      },
      "source": [
        "## **Tipos de Decision Tree**"
      ]
    },
    {
      "cell_type": "markdown",
      "metadata": {
        "id": "1W18L_HM6bo7"
      },
      "source": [
        "## Variável de Resposta é numérica\n",
        "\n",
        "=> **Árvore de Regressão**\n",
        "Previsão de Salário\n",
        "\n",
        "## Variável de Resposta é categoria\n",
        "\n",
        "=> **Árvore de Classificação**\n",
        "Previsão de Classe (inadimplente ou não-inad)"
      ]
    },
    {
      "cell_type": "markdown",
      "metadata": {
        "id": "olZCMrDJ74Sx"
      },
      "source": [
        "![](data:image/png;base64,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)"
      ]
    },
    {
      "cell_type": "markdown",
      "metadata": {
        "id": "VrUqCQR4VIFS"
      },
      "source": [
        "## 3. **Por dentro do Algoritmo - Como um algoritmo baseado em árvore decide onde dividir (fazer o split)?**"
      ]
    },
    {
      "cell_type": "markdown",
      "metadata": {
        "id": "4mzQlEtgXSQU"
      },
      "source": [
        "![](https://miro.medium.com/max/763/1*xwkR6CRvgNXV-sgCuBB64A.png)"
      ]
    },
    {
      "cell_type": "markdown",
      "metadata": {
        "id": "YuHC96ZibJuY"
      },
      "source": [
        "![](https://cienciadosdados.com/images/2021/M5/gini.png)"
      ]
    },
    {
      "cell_type": "markdown",
      "metadata": {
        "id": "5vgIjtMkbhsv"
      },
      "source": [
        "![](https://cienciadosdados.com/images/2021/M5/gini2.png)"
      ]
    },
    {
      "cell_type": "markdown",
      "metadata": {
        "id": "X-cf2axNbx4Z"
      },
      "source": [
        "![](https://cienciadosdados.com/images/2021/M5/chi.png)"
      ]
    },
    {
      "cell_type": "markdown",
      "metadata": {
        "id": "LDDD477ucA3C"
      },
      "source": [
        "![](https://cienciadosdados.com/images/2021/M5/chi2.png)"
      ]
    },
    {
      "cell_type": "markdown",
      "metadata": {
        "id": "QYYcvSXlcKRf"
      },
      "source": [
        "![](https://cienciadosdados.com/images/2021/M5/chi3.png)"
      ]
    },
    {
      "cell_type": "markdown",
      "metadata": {
        "id": "kHgZG58YcZ1a"
      },
      "source": [
        "![](https://cienciadosdados.com/images/2021/M5/gain.png)"
      ]
    },
    {
      "cell_type": "markdown",
      "metadata": {
        "id": "nAvyGVNnc69M"
      },
      "source": [
        "![](https://cienciadosdados.com/images/2021/M5/gain2.png)"
      ]
    },
    {
      "cell_type": "markdown",
      "metadata": {
        "id": "qVAXyJy-dNA7"
      },
      "source": [
        "![](https://cienciadosdados.com/images/2021/M5/gain3.png)"
      ]
    },
    {
      "cell_type": "markdown",
      "metadata": {
        "id": "gmLYCjlCdXw0"
      },
      "source": [
        "![](https://cienciadosdados.com/images/2021/M5/varian.png)"
      ]
    },
    {
      "cell_type": "markdown",
      "metadata": {
        "id": "dGPdRvJ5docc"
      },
      "source": [
        "![](https://cienciadosdados.com/images/2021/M5/varian2.png)"
      ]
    },
    {
      "cell_type": "markdown",
      "metadata": {
        "id": "bgH18S4RzQGY"
      },
      "source": [
        "## 4. **Quais são os principais parâmetros dos algoritmos baseados em árvore e como podemos evitar o overfiting nas árvores de decisão?**"
      ]
    },
    {
      "cell_type": "markdown",
      "metadata": {
        "id": "6xvSm7RazhTq"
      },
      "source": [
        "Overfitting é um dos principais desafios enfrentados ao usar algoritmos baseados em árvore. Se não houver um conjunto de limite de uma árvore de decisão, ela lhe dará 100% de precisão no conjunto de treinamento, porque no pior caso, acabará fazendo 1 folha para cada observação. Assim, prevenir o sobreajuste é fundamental durante a modelagem de uma árvore de decisão e pode ser feito de 2 maneiras:\n",
        "\n",
        "Definindo restrições no tamanho (tree **size**) e\n",
        "poda de árvore (Tree **pruning**)"
      ]
    },
    {
      "cell_type": "markdown",
      "metadata": {
        "id": "6wrB4-EOTgab"
      },
      "source": [
        "![](https://cdn-images-1.medium.com/max/2000/1*c3W5mjgvBRIOFA8ye1JEXg.png)\n",
        "\n",
        "![](https://drek4537l1klr.cloudfront.net/rhys/v-5/Figures/CH03_FIG_11_MLR.png)\n",
        "\n",
        "![](https://machinelearningknowledge.ai/wp-content/uploads/2019/05/Overfitting-and-Underfitting-Animation.gif)"
      ]
    },
    {
      "cell_type": "markdown",
      "metadata": {
        "id": "1ND3sAzvz05y"
      },
      "source": [
        "###Hyperparâmetros\n",
        "\n",
        "**Minimum samples for a node split** (Amostras mínimas para uma divisão de nó)\n",
        "\n",
        "* Define o número mínimo de amostras (ou observações) que são necessárias em um nó para ser considerado para divisão.\n",
        "\n",
        "* Usado para controlar o sobreajuste. Valores mais altos evitam que um modelo aprenda relações que podem ser altamente específicas para a amostra particular selecionada para uma árvore.\n",
        "\n",
        "* Valores muito altos podem levar a um ajuste insuficiente, portanto, ele deve ser ajustado usando CV.\n",
        "\n",
        "**Minimum samples for a terminal node (leaf)** Amostras mínimas para um nó terminal (folha)\n",
        "\n",
        "* Define as amostras mínimas (ou observações) necessárias em um nó terminal ou folha.\n",
        "\n",
        "* Usado para controlar o sobreajuste semelhante a min_samples_split.\n",
        "\n",
        "* Geralmente, valores mais baixos devem ser escolhidos para problemas de classe desequilibrada porque as regiões em que a classe minoritária estará em maioria serão muito pequenas.\n",
        "\n",
        "**Maximum depth of tree (vertical depth)** Profundidade máxima da árvore (profundidade vertical)\n",
        "\n",
        "* A profundidade máxima de uma árvore.\n",
        "\n",
        "* Usado para controlar o sobreajuste, uma vez que uma profundidade maior permitirá que o modelo aprenda relações muito específicas para uma amostra particular.\n",
        "\n",
        "* Deve ser ajustado usando CV.\n",
        "\n",
        "**Maximum number of terminal nodes** Número máximo de nós terminais\n",
        "\n",
        "* O número máximo de nós terminais ou folhas em uma árvore.\n",
        "\n",
        "* Pode ser definido no lugar de max_depth. Como as árvores binárias são criadas, uma profundidade de 'n' produziria um máximo de 2 ^ n folhas.\n",
        "\n",
        "**Maximum features to consider for split** Recursos máximos a serem considerados para divisão\n",
        "\n",
        "* O número de recursos a serem considerados ao pesquisar a melhor divisão. Eles serão selecionados aleatoriamente.\n",
        "\n",
        "* Como regra geral, a raiz quadrada do número total de recursos funciona muito bem, mas devemos verificar até 30-40% do número total de recursos.\n",
        "\n",
        "* Valores mais altos podem levar ao overfiting, mas dependem de caso para caso.\n",
        "\n",
        "\n"
      ]
    },
    {
      "cell_type": "markdown",
      "metadata": {
        "id": "7bLaODhKHPCE"
      },
      "source": [
        "# <font color='BLUE'>Vamos Ver a **Decision tree** Funcionando na Prática </font>"
      ]
    },
    {
      "cell_type": "markdown",
      "metadata": {
        "id": "bdTP5VZKUwrb"
      },
      "source": [
        "![](https://aigraduate.com/content/images/downloaded_images/Decision-Tree-Visualisation---Quick-ML-Tutorial-for-Beginners/1-cGh_XzOZ7hp3XmqgtRdlYA.png)"
      ]
    },
    {
      "cell_type": "markdown",
      "metadata": {
        "id": "tx4IirnrU28b"
      },
      "source": [
        "![](https://aigraduate.com/content/images/downloaded_images/Decision-Tree-Visualisation---Quick-ML-Tutorial-for-Beginners/1-OzFnTiTLfgENmYkSEB5cXQ.gif)"
      ]
    },
    {
      "cell_type": "markdown",
      "metadata": {
        "id": "KFm2GLJCmRVh"
      },
      "source": [
        "### Exemplo Prático 1"
      ]
    },
    {
      "cell_type": "code",
      "metadata": {
        "id": "BY6snde8VYR-",
        "colab": {
          "base_uri": "https://localhost:8080/",
          "height": 521
        },
        "outputId": "cda97ae4-feda-4f36-c64e-0da9eba30c47"
      },
      "source": [
        "from sklearn.datasets import load_iris\n",
        "from sklearn import tree\n",
        "import numpy as np\n",
        "from graphviz import Source\n",
        "\n",
        "iris = load_iris()\n",
        "print(\"Feature Names - \", iris.feature_names,\"\\n\")\n",
        "print(iris.target)\n",
        "#Print the row 0,50 and 100 i.e. 1 example for each type\n",
        "print(\"\\nSetosa flower 1 - \",iris.data[0])\n",
        "print(\"Versicolor flower 1 - \",iris.data[50])\n",
        "print(\"Virginica flower 1 - \",iris.data[100],\"\\n\")\n",
        "\n",
        "test_indices = [0,1,50,51,100,101]\n",
        "\n",
        "#training data\n",
        "train_target = np.delete(iris.target, test_indices)\n",
        "train_data = np.delete(iris.data, test_indices, axis=0)\n",
        "\n",
        "#testing data\n",
        "test_target = iris.target[test_indices]\n",
        "test_data = iris.data[test_indices]\n",
        "\n",
        "#Build The Classifier\n",
        "dtClassifier = tree.DecisionTreeClassifier()\n",
        "\n",
        "#Train The Classifier\n",
        "dtClassifier.fit(train_data, train_target)\n",
        "\n",
        "#Print the actual labels of each test point\n",
        "print(\"\\n********** Actual **************\")\n",
        "for p in range(len(test_indices)):\n",
        "\tprint(\"Test Row \",test_indices[p], \" belongs to the class \",test_target[p] )\n",
        "\n",
        "predicted_target = (dtClassifier.predict(test_data))\n",
        "\n",
        "#Print the predicted labels of each test point\n",
        "print(\"\\n********** Predicted **************\")\n",
        "for p in range(len(test_indices)):\n",
        "\tprint(\"Test Row \",test_indices[p], \" is predicted to be of the class \", predicted_target[p] )\n",
        "\n",
        "#Visualize The Decision Tree\n",
        "graph = Source(tree.export_graphviz(dtClassifier, out_file=None,\n",
        "                     feature_names=iris.feature_names,\n",
        "                     class_names=iris.target_names,\n",
        "                     filled=True, rounded=True,  node_ids= True,\n",
        "                     special_characters=True))\n",
        "graph.format = 'png'\n",
        "graph.render('dtree_render',view=True)"
      ],
      "execution_count": 8,
      "outputs": [
        {
          "output_type": "stream",
          "name": "stdout",
          "text": [
            "Feature Names -  ['sepal length (cm)', 'sepal width (cm)', 'petal length (cm)', 'petal width (cm)'] \n",
            "\n",
            "[0 0 0 0 0 0 0 0 0 0 0 0 0 0 0 0 0 0 0 0 0 0 0 0 0 0 0 0 0 0 0 0 0 0 0 0 0\n",
            " 0 0 0 0 0 0 0 0 0 0 0 0 0 1 1 1 1 1 1 1 1 1 1 1 1 1 1 1 1 1 1 1 1 1 1 1 1\n",
            " 1 1 1 1 1 1 1 1 1 1 1 1 1 1 1 1 1 1 1 1 1 1 1 1 1 1 2 2 2 2 2 2 2 2 2 2 2\n",
            " 2 2 2 2 2 2 2 2 2 2 2 2 2 2 2 2 2 2 2 2 2 2 2 2 2 2 2 2 2 2 2 2 2 2 2 2 2\n",
            " 2 2]\n",
            "\n",
            "Setosa flower 1 -  [5.1 3.5 1.4 0.2]\n",
            "Versicolor flower 1 -  [7.  3.2 4.7 1.4]\n",
            "Virginica flower 1 -  [6.3 3.3 6.  2.5] \n",
            "\n",
            "\n",
            "********** Actual **************\n",
            "Test Row  0  belongs to the class  0\n",
            "Test Row  1  belongs to the class  0\n",
            "Test Row  50  belongs to the class  1\n",
            "Test Row  51  belongs to the class  1\n",
            "Test Row  100  belongs to the class  2\n",
            "Test Row  101  belongs to the class  2\n",
            "\n",
            "********** Predicted **************\n",
            "Test Row  0  is predicted to be of the class  0\n",
            "Test Row  1  is predicted to be of the class  0\n",
            "Test Row  50  is predicted to be of the class  1\n",
            "Test Row  51  is predicted to be of the class  1\n",
            "Test Row  100  is predicted to be of the class  2\n",
            "Test Row  101  is predicted to be of the class  2\n"
          ]
        },
        {
          "output_type": "execute_result",
          "data": {
            "text/plain": [
              "'dtree_render.png'"
            ],
            "application/vnd.google.colaboratory.intrinsic+json": {
              "type": "string"
            }
          },
          "metadata": {},
          "execution_count": 8
        }
      ]
    },
    {
      "cell_type": "markdown",
      "metadata": {
        "id": "IwA3MYtymgbc"
      },
      "source": [
        "### Isso seria uma Árvore Grande"
      ]
    },
    {
      "cell_type": "markdown",
      "metadata": {
        "id": "FxEFe5hMV569"
      },
      "source": [
        "![](https://cdn-images-1.medium.com/max/2000/0*ubL8_k7w3JNEvZ18)"
      ]
    },
    {
      "cell_type": "markdown",
      "metadata": {
        "id": "gNif_im9mN2c"
      },
      "source": [
        "### Exemplo Prático 2"
      ]
    },
    {
      "cell_type": "code",
      "metadata": {
        "id": "ahmniCCz4coL",
        "colab": {
          "base_uri": "https://localhost:8080/"
        },
        "outputId": "bd8a5280-fa7d-44bb-bbdb-6a5d104b3733"
      },
      "source": [
        "'''\n",
        "The following code is for Decision Tree\n",
        "'''\n",
        "\n",
        "# importing required libraries\n",
        "import pandas as pd\n",
        "from sklearn.tree import DecisionTreeClassifier\n",
        "from sklearn.metrics import accuracy_score\n",
        "\n",
        "# read the train and test dataset\n",
        "train_data = pd.read_csv('/content/train-data.txt')\n",
        "test_data = pd.read_csv('/content/test-data.txt')\n",
        "\n",
        "# shape of the dataset\n",
        "print('Shape of training data :',train_data.shape)\n",
        "print('Shape of testing data :',test_data.shape)\n",
        "\n",
        "# Now, we need to predict the missing target variable in the test data\n",
        "# target variable - Survived\n",
        "\n",
        "# seperate the independent and target variable on training data\n",
        "train_x = train_data.drop(columns=['Survived'],axis=1)\n",
        "train_y = train_data['Survived']\n",
        "\n",
        "# seperate the independent and target variable on testing data\n",
        "test_x = test_data.drop(columns=['Survived'],axis=1)\n",
        "test_y = test_data['Survived']\n",
        "\n",
        "'''\n",
        "Create the object of the Decision Tree model\n",
        "You can also add other parameters and test your code here\n",
        "Some parameters are : max_depth and max_features\n",
        "Documentation of sklearn DecisionTreeClassifier:\n",
        "\n",
        "https://scikit-learn.org/stable/modules/generated/sklearn.tree.DecisionTreeClassifier.html\n",
        "\n",
        " '''\n",
        "model = DecisionTreeClassifier(max_depth=5)\n",
        "\n",
        "# fit the model with the training data\n",
        "model.fit(train_x,train_y)\n",
        "\n",
        "# depth of the decision tree\n",
        "print('Depth of the Decision Tree :', model.get_depth())\n",
        "\n",
        "# predict the target on the train dataset\n",
        "predict_train = model.predict(train_x)\n",
        "print('Target on train data',predict_train)\n",
        "\n",
        "# Accuray Score on train dataset\n",
        "accuracy_train = accuracy_score(train_y,predict_train)\n",
        "print('accuracy_score on train dataset : ', accuracy_train)\n",
        "\n",
        "# predict the target on the test dataset\n",
        "predict_test = model.predict(test_x)\n",
        "print('Target on test data',predict_test)\n",
        "\n",
        "# Accuracy Score on test dataset\n",
        "accuracy_test = accuracy_score(test_y,predict_test)\n",
        "print('accuracy_score on test dataset : ', accuracy_test)\n"
      ],
      "execution_count": 9,
      "outputs": [
        {
          "output_type": "stream",
          "name": "stdout",
          "text": [
            "Shape of training data : (712, 25)\n",
            "Shape of testing data : (179, 25)\n",
            "Depth of the Decision Tree : 5\n",
            "Target on train data [0 1 0 0 0 0 0 0 0 0 0 0 1 1 0 0 0 0 0 1 0 0 1 0 0 0 0 0 0 1 0 0 0 0 0 0 0\n",
            " 1 0 0 0 1 0 1 1 1 1 0 0 0 1 0 0 0 0 0 0 0 1 0 1 1 1 0 1 0 0 0 1 0 0 0 0 0\n",
            " 0 1 1 0 0 1 0 1 0 1 1 0 0 0 1 0 1 0 0 1 0 0 0 1 1 0 0 1 0 0 1 0 0 1 0 0 1\n",
            " 0 0 0 0 1 0 0 1 0 1 0 0 1 0 0 0 1 0 0 1 0 0 0 1 0 0 0 0 0 0 0 0 1 0 1 1 0\n",
            " 0 0 0 0 1 0 0 1 0 1 0 0 1 0 0 1 1 0 1 1 0 0 0 0 0 0 0 0 0 0 0 0 0 1 0 0 1\n",
            " 0 1 1 1 1 0 0 1 0 0 0 0 0 1 1 1 1 0 0 0 1 1 1 0 0 0 0 1 0 0 0 0 0 0 0 0 0\n",
            " 0 0 0 0 0 0 0 0 1 1 1 0 0 1 0 0 0 0 0 1 0 1 0 1 0 0 0 0 1 1 0 1 0 0 1 1 0\n",
            " 0 1 1 0 1 1 1 0 1 1 0 0 1 0 0 1 1 1 0 0 0 0 0 0 0 0 1 0 0 0 0 0 0 0 0 0 0\n",
            " 0 0 1 1 0 1 1 0 0 0 0 0 0 0 0 0 1 0 1 1 0 0 0 0 1 0 1 1 0 0 1 0 0 0 0 1 1\n",
            " 1 0 0 1 1 0 1 0 0 0 0 0 0 0 0 0 1 0 1 0 0 1 1 1 0 0 0 0 0 1 0 0 0 0 0 0 0\n",
            " 0 0 0 0 0 1 0 0 0 0 0 1 0 0 1 0 0 0 0 0 0 0 0 1 0 0 1 1 0 1 0 1 0 0 1 1 1\n",
            " 0 1 1 0 0 0 0 0 0 0 0 0 1 1 0 1 0 0 1 0 0 0 0 0 1 0 0 0 1 1 0 0 0 0 1 0 0\n",
            " 0 1 0 0 0 0 0 0 0 0 0 1 1 0 1 0 1 0 0 0 1 0 0 0 1 0 0 0 1 0 1 0 0 0 0 0 0\n",
            " 0 0 1 0 1 0 0 0 0 1 1 0 1 0 0 0 1 1 1 0 0 0 0 0 0 0 0 0 0 0 1 0 0 0 1 0 1\n",
            " 1 0 0 0 0 1 0 0 0 0 0 1 0 1 0 1 0 0 0 0 0 0 1 1 0 0 0 1 1 1 1 1 0 1 0 0 1\n",
            " 0 0 0 1 1 0 0 1 0 0 1 0 1 0 0 1 0 1 0 1 0 0 0 0 1 1 0 1 0 0 1 1 0 1 1 0 0\n",
            " 0 0 1 0 0 1 0 1 0 0 0 0 1 0 0 0 0 1 1 0 1 0 0 0 1 0 1 0 0 0 0 0 0 0 0 0 1\n",
            " 0 0 0 0 0 0 1 1 0 0 1 1 0 0 1 0 1 0 0 0 0 0 1 1 0 0 0 1 0 0 0 1 0 1 0 0 0\n",
            " 0 0 0 0 1 0 0 1 0 0 1 0 0 0 0 1 1 0 0 0 0 0 0 0 0 0 1 0 0 0 1 0 0 1 0 0 0\n",
            " 1 0 1 1 1 0 0 1 0]\n",
            "accuracy_score on train dataset :  0.8539325842696629\n",
            "Target on test data [0 0 0 1 1 0 0 0 0 0 0 1 1 0 0 0 0 0 0 0 0 0 1 0 1 0 0 0 0 1 1 0 0 0 1 0 0\n",
            " 0 0 0 0 0 0 0 0 1 0 0 1 0 0 0 0 0 1 1 0 1 1 0 0 1 1 0 0 0 0 0 0 1 0 0 0 0\n",
            " 1 0 0 0 1 0 0 0 0 0 1 0 1 1 0 1 0 0 0 0 1 1 0 0 1 0 1 0 0 0 1 1 0 0 1 1 1\n",
            " 0 1 0 0 0 0 1 0 0 1 0 1 1 0 1 1 0 0 1 1 0 0 1 1 0 0 1 1 0 1 0 1 0 0 0 0 0\n",
            " 0 0 0 1 1 0 0 1 0 0 0 0 0 1 0 0 0 0 0 0 1 0 1 1 0 1 0 0 0 0 0]\n",
            "accuracy_score on test dataset :  0.8435754189944135\n"
          ]
        }
      ]
    },
    {
      "cell_type": "markdown",
      "metadata": {
        "id": "DRAn28s2lw7Q"
      },
      "source": [
        "### Exemplo Prático 3"
      ]
    },
    {
      "cell_type": "code",
      "metadata": {
        "id": "QTrTs1vTQidq",
        "colab": {
          "base_uri": "https://localhost:8080/"
        },
        "outputId": "33fdf1be-9313-47dc-a492-5cbab3834c0b"
      },
      "source": [
        "!pip install pydot"
      ],
      "execution_count": 10,
      "outputs": [
        {
          "output_type": "stream",
          "name": "stdout",
          "text": [
            "Requirement already satisfied: pydot in /usr/local/lib/python3.10/dist-packages (1.4.2)\n",
            "Requirement already satisfied: pyparsing>=2.1.4 in /usr/local/lib/python3.10/dist-packages (from pydot) (3.1.1)\n"
          ]
        }
      ]
    },
    {
      "cell_type": "code",
      "metadata": {
        "id": "u3xOCSjYQidw"
      },
      "source": [
        "#!pip install graphviz\n",
        "\n",
        "### Talvez seja necessário executar esse comando (CMD) para o windows\n",
        "#!conda install python-graphviz\n",
        "\n",
        "# Documentação em http://www.graphviz.org"
      ],
      "execution_count": 11,
      "outputs": []
    },
    {
      "cell_type": "code",
      "metadata": {
        "id": "CO26AQSFQidz"
      },
      "source": [
        "# Importando os módulos\n",
        "import pandas as pd\n",
        "from sklearn.tree import DecisionTreeClassifier\n",
        "from sklearn.tree import export_graphviz\n",
        "import pydot\n",
        "import graphviz"
      ],
      "execution_count": 12,
      "outputs": []
    },
    {
      "cell_type": "code",
      "metadata": {
        "id": "e8XPpdOrQid1"
      },
      "source": [
        "# Criando o dataset\n",
        "instancias = [\n",
        "    {'Melhor Amigo': False, 'Especie': 'Cachorro'},\n",
        "    {'Melhor Amigo': True, 'Especie': 'Cachorro'},\n",
        "    {'Melhor Amigo': True, 'Especie': 'Gato'},\n",
        "    {'Melhor Amigo': True, 'Especie': 'Gato'},\n",
        "    {'Melhor Amigo': False, 'Especie': 'Gato'},\n",
        "    {'Melhor Amigo': True, 'Especie': 'Gato'},\n",
        "    {'Melhor Amigo': True, 'Especie': 'Gato'},\n",
        "    {'Melhor Amigo': False, 'Especie': 'Cachorro'},\n",
        "    {'Melhor Amigo': True, 'Especie': 'Gato'},\n",
        "    {'Melhor Amigo': False, 'Especie': 'Cachorro'},\n",
        "    {'Melhor Amigo': False, 'Especie': 'Cachorro'},\n",
        "    {'Melhor Amigo': False, 'Especie': 'Gato'},\n",
        "    {'Melhor Amigo': True, 'Especie': 'Gato'},\n",
        "    {'Melhor Amigo': True, 'Especie': 'Cachorro'}\n",
        "]"
      ],
      "execution_count": 13,
      "outputs": []
    },
    {
      "cell_type": "code",
      "metadata": {
        "id": "rL41TgxeQid4"
      },
      "source": [
        "# Transformando o Ddicionário em DataFrame\n",
        "df = pd.DataFrame(instancias)"
      ],
      "execution_count": 14,
      "outputs": []
    },
    {
      "cell_type": "code",
      "metadata": {
        "id": "Vf-lHyhTQid7",
        "colab": {
          "base_uri": "https://localhost:8080/",
          "height": 488
        },
        "outputId": "b4c4891c-d7fa-40bf-f1f0-4692d8b4cd5a"
      },
      "source": [
        "df"
      ],
      "execution_count": 15,
      "outputs": [
        {
          "output_type": "execute_result",
          "data": {
            "text/plain": [
              "    Melhor Amigo   Especie\n",
              "0          False  Cachorro\n",
              "1           True  Cachorro\n",
              "2           True      Gato\n",
              "3           True      Gato\n",
              "4          False      Gato\n",
              "5           True      Gato\n",
              "6           True      Gato\n",
              "7          False  Cachorro\n",
              "8           True      Gato\n",
              "9          False  Cachorro\n",
              "10         False  Cachorro\n",
              "11         False      Gato\n",
              "12          True      Gato\n",
              "13          True  Cachorro"
            ],
            "text/html": [
              "\n",
              "  <div id=\"df-db9856b2-4247-40ab-b511-b2f6a182bd27\" class=\"colab-df-container\">\n",
              "    <div>\n",
              "<style scoped>\n",
              "    .dataframe tbody tr th:only-of-type {\n",
              "        vertical-align: middle;\n",
              "    }\n",
              "\n",
              "    .dataframe tbody tr th {\n",
              "        vertical-align: top;\n",
              "    }\n",
              "\n",
              "    .dataframe thead th {\n",
              "        text-align: right;\n",
              "    }\n",
              "</style>\n",
              "<table border=\"1\" class=\"dataframe\">\n",
              "  <thead>\n",
              "    <tr style=\"text-align: right;\">\n",
              "      <th></th>\n",
              "      <th>Melhor Amigo</th>\n",
              "      <th>Especie</th>\n",
              "    </tr>\n",
              "  </thead>\n",
              "  <tbody>\n",
              "    <tr>\n",
              "      <th>0</th>\n",
              "      <td>False</td>\n",
              "      <td>Cachorro</td>\n",
              "    </tr>\n",
              "    <tr>\n",
              "      <th>1</th>\n",
              "      <td>True</td>\n",
              "      <td>Cachorro</td>\n",
              "    </tr>\n",
              "    <tr>\n",
              "      <th>2</th>\n",
              "      <td>True</td>\n",
              "      <td>Gato</td>\n",
              "    </tr>\n",
              "    <tr>\n",
              "      <th>3</th>\n",
              "      <td>True</td>\n",
              "      <td>Gato</td>\n",
              "    </tr>\n",
              "    <tr>\n",
              "      <th>4</th>\n",
              "      <td>False</td>\n",
              "      <td>Gato</td>\n",
              "    </tr>\n",
              "    <tr>\n",
              "      <th>5</th>\n",
              "      <td>True</td>\n",
              "      <td>Gato</td>\n",
              "    </tr>\n",
              "    <tr>\n",
              "      <th>6</th>\n",
              "      <td>True</td>\n",
              "      <td>Gato</td>\n",
              "    </tr>\n",
              "    <tr>\n",
              "      <th>7</th>\n",
              "      <td>False</td>\n",
              "      <td>Cachorro</td>\n",
              "    </tr>\n",
              "    <tr>\n",
              "      <th>8</th>\n",
              "      <td>True</td>\n",
              "      <td>Gato</td>\n",
              "    </tr>\n",
              "    <tr>\n",
              "      <th>9</th>\n",
              "      <td>False</td>\n",
              "      <td>Cachorro</td>\n",
              "    </tr>\n",
              "    <tr>\n",
              "      <th>10</th>\n",
              "      <td>False</td>\n",
              "      <td>Cachorro</td>\n",
              "    </tr>\n",
              "    <tr>\n",
              "      <th>11</th>\n",
              "      <td>False</td>\n",
              "      <td>Gato</td>\n",
              "    </tr>\n",
              "    <tr>\n",
              "      <th>12</th>\n",
              "      <td>True</td>\n",
              "      <td>Gato</td>\n",
              "    </tr>\n",
              "    <tr>\n",
              "      <th>13</th>\n",
              "      <td>True</td>\n",
              "      <td>Cachorro</td>\n",
              "    </tr>\n",
              "  </tbody>\n",
              "</table>\n",
              "</div>\n",
              "    <div class=\"colab-df-buttons\">\n",
              "\n",
              "  <div class=\"colab-df-container\">\n",
              "    <button class=\"colab-df-convert\" onclick=\"convertToInteractive('df-db9856b2-4247-40ab-b511-b2f6a182bd27')\"\n",
              "            title=\"Convert this dataframe to an interactive table.\"\n",
              "            style=\"display:none;\">\n",
              "\n",
              "  <svg xmlns=\"http://www.w3.org/2000/svg\" height=\"24px\" viewBox=\"0 -960 960 960\">\n",
              "    <path d=\"M120-120v-720h720v720H120Zm60-500h600v-160H180v160Zm220 220h160v-160H400v160Zm0 220h160v-160H400v160ZM180-400h160v-160H180v160Zm440 0h160v-160H620v160ZM180-180h160v-160H180v160Zm440 0h160v-160H620v160Z\"/>\n",
              "  </svg>\n",
              "    </button>\n",
              "\n",
              "  <style>\n",
              "    .colab-df-container {\n",
              "      display:flex;\n",
              "      gap: 12px;\n",
              "    }\n",
              "\n",
              "    .colab-df-convert {\n",
              "      background-color: #E8F0FE;\n",
              "      border: none;\n",
              "      border-radius: 50%;\n",
              "      cursor: pointer;\n",
              "      display: none;\n",
              "      fill: #1967D2;\n",
              "      height: 32px;\n",
              "      padding: 0 0 0 0;\n",
              "      width: 32px;\n",
              "    }\n",
              "\n",
              "    .colab-df-convert:hover {\n",
              "      background-color: #E2EBFA;\n",
              "      box-shadow: 0px 1px 2px rgba(60, 64, 67, 0.3), 0px 1px 3px 1px rgba(60, 64, 67, 0.15);\n",
              "      fill: #174EA6;\n",
              "    }\n",
              "\n",
              "    .colab-df-buttons div {\n",
              "      margin-bottom: 4px;\n",
              "    }\n",
              "\n",
              "    [theme=dark] .colab-df-convert {\n",
              "      background-color: #3B4455;\n",
              "      fill: #D2E3FC;\n",
              "    }\n",
              "\n",
              "    [theme=dark] .colab-df-convert:hover {\n",
              "      background-color: #434B5C;\n",
              "      box-shadow: 0px 1px 3px 1px rgba(0, 0, 0, 0.15);\n",
              "      filter: drop-shadow(0px 1px 2px rgba(0, 0, 0, 0.3));\n",
              "      fill: #FFFFFF;\n",
              "    }\n",
              "  </style>\n",
              "\n",
              "    <script>\n",
              "      const buttonEl =\n",
              "        document.querySelector('#df-db9856b2-4247-40ab-b511-b2f6a182bd27 button.colab-df-convert');\n",
              "      buttonEl.style.display =\n",
              "        google.colab.kernel.accessAllowed ? 'block' : 'none';\n",
              "\n",
              "      async function convertToInteractive(key) {\n",
              "        const element = document.querySelector('#df-db9856b2-4247-40ab-b511-b2f6a182bd27');\n",
              "        const dataTable =\n",
              "          await google.colab.kernel.invokeFunction('convertToInteractive',\n",
              "                                                    [key], {});\n",
              "        if (!dataTable) return;\n",
              "\n",
              "        const docLinkHtml = 'Like what you see? Visit the ' +\n",
              "          '<a target=\"_blank\" href=https://colab.research.google.com/notebooks/data_table.ipynb>data table notebook</a>'\n",
              "          + ' to learn more about interactive tables.';\n",
              "        element.innerHTML = '';\n",
              "        dataTable['output_type'] = 'display_data';\n",
              "        await google.colab.output.renderOutput(dataTable, element);\n",
              "        const docLink = document.createElement('div');\n",
              "        docLink.innerHTML = docLinkHtml;\n",
              "        element.appendChild(docLink);\n",
              "      }\n",
              "    </script>\n",
              "  </div>\n",
              "\n",
              "\n",
              "<div id=\"df-b24a499c-01aa-4710-b800-b8bef163d103\">\n",
              "  <button class=\"colab-df-quickchart\" onclick=\"quickchart('df-b24a499c-01aa-4710-b800-b8bef163d103')\"\n",
              "            title=\"Suggest charts\"\n",
              "            style=\"display:none;\">\n",
              "\n",
              "<svg xmlns=\"http://www.w3.org/2000/svg\" height=\"24px\"viewBox=\"0 0 24 24\"\n",
              "     width=\"24px\">\n",
              "    <g>\n",
              "        <path d=\"M19 3H5c-1.1 0-2 .9-2 2v14c0 1.1.9 2 2 2h14c1.1 0 2-.9 2-2V5c0-1.1-.9-2-2-2zM9 17H7v-7h2v7zm4 0h-2V7h2v10zm4 0h-2v-4h2v4z\"/>\n",
              "    </g>\n",
              "</svg>\n",
              "  </button>\n",
              "\n",
              "<style>\n",
              "  .colab-df-quickchart {\n",
              "      --bg-color: #E8F0FE;\n",
              "      --fill-color: #1967D2;\n",
              "      --hover-bg-color: #E2EBFA;\n",
              "      --hover-fill-color: #174EA6;\n",
              "      --disabled-fill-color: #AAA;\n",
              "      --disabled-bg-color: #DDD;\n",
              "  }\n",
              "\n",
              "  [theme=dark] .colab-df-quickchart {\n",
              "      --bg-color: #3B4455;\n",
              "      --fill-color: #D2E3FC;\n",
              "      --hover-bg-color: #434B5C;\n",
              "      --hover-fill-color: #FFFFFF;\n",
              "      --disabled-bg-color: #3B4455;\n",
              "      --disabled-fill-color: #666;\n",
              "  }\n",
              "\n",
              "  .colab-df-quickchart {\n",
              "    background-color: var(--bg-color);\n",
              "    border: none;\n",
              "    border-radius: 50%;\n",
              "    cursor: pointer;\n",
              "    display: none;\n",
              "    fill: var(--fill-color);\n",
              "    height: 32px;\n",
              "    padding: 0;\n",
              "    width: 32px;\n",
              "  }\n",
              "\n",
              "  .colab-df-quickchart:hover {\n",
              "    background-color: var(--hover-bg-color);\n",
              "    box-shadow: 0 1px 2px rgba(60, 64, 67, 0.3), 0 1px 3px 1px rgba(60, 64, 67, 0.15);\n",
              "    fill: var(--button-hover-fill-color);\n",
              "  }\n",
              "\n",
              "  .colab-df-quickchart-complete:disabled,\n",
              "  .colab-df-quickchart-complete:disabled:hover {\n",
              "    background-color: var(--disabled-bg-color);\n",
              "    fill: var(--disabled-fill-color);\n",
              "    box-shadow: none;\n",
              "  }\n",
              "\n",
              "  .colab-df-spinner {\n",
              "    border: 2px solid var(--fill-color);\n",
              "    border-color: transparent;\n",
              "    border-bottom-color: var(--fill-color);\n",
              "    animation:\n",
              "      spin 1s steps(1) infinite;\n",
              "  }\n",
              "\n",
              "  @keyframes spin {\n",
              "    0% {\n",
              "      border-color: transparent;\n",
              "      border-bottom-color: var(--fill-color);\n",
              "      border-left-color: var(--fill-color);\n",
              "    }\n",
              "    20% {\n",
              "      border-color: transparent;\n",
              "      border-left-color: var(--fill-color);\n",
              "      border-top-color: var(--fill-color);\n",
              "    }\n",
              "    30% {\n",
              "      border-color: transparent;\n",
              "      border-left-color: var(--fill-color);\n",
              "      border-top-color: var(--fill-color);\n",
              "      border-right-color: var(--fill-color);\n",
              "    }\n",
              "    40% {\n",
              "      border-color: transparent;\n",
              "      border-right-color: var(--fill-color);\n",
              "      border-top-color: var(--fill-color);\n",
              "    }\n",
              "    60% {\n",
              "      border-color: transparent;\n",
              "      border-right-color: var(--fill-color);\n",
              "    }\n",
              "    80% {\n",
              "      border-color: transparent;\n",
              "      border-right-color: var(--fill-color);\n",
              "      border-bottom-color: var(--fill-color);\n",
              "    }\n",
              "    90% {\n",
              "      border-color: transparent;\n",
              "      border-bottom-color: var(--fill-color);\n",
              "    }\n",
              "  }\n",
              "</style>\n",
              "\n",
              "  <script>\n",
              "    async function quickchart(key) {\n",
              "      const quickchartButtonEl =\n",
              "        document.querySelector('#' + key + ' button');\n",
              "      quickchartButtonEl.disabled = true;  // To prevent multiple clicks.\n",
              "      quickchartButtonEl.classList.add('colab-df-spinner');\n",
              "      try {\n",
              "        const charts = await google.colab.kernel.invokeFunction(\n",
              "            'suggestCharts', [key], {});\n",
              "      } catch (error) {\n",
              "        console.error('Error during call to suggestCharts:', error);\n",
              "      }\n",
              "      quickchartButtonEl.classList.remove('colab-df-spinner');\n",
              "      quickchartButtonEl.classList.add('colab-df-quickchart-complete');\n",
              "    }\n",
              "    (() => {\n",
              "      let quickchartButtonEl =\n",
              "        document.querySelector('#df-b24a499c-01aa-4710-b800-b8bef163d103 button');\n",
              "      quickchartButtonEl.style.display =\n",
              "        google.colab.kernel.accessAllowed ? 'block' : 'none';\n",
              "    })();\n",
              "  </script>\n",
              "</div>\n",
              "\n",
              "  <div id=\"id_c13123ae-8356-46f8-a30f-3a271f73fa60\">\n",
              "    <style>\n",
              "      .colab-df-generate {\n",
              "        background-color: #E8F0FE;\n",
              "        border: none;\n",
              "        border-radius: 50%;\n",
              "        cursor: pointer;\n",
              "        display: none;\n",
              "        fill: #1967D2;\n",
              "        height: 32px;\n",
              "        padding: 0 0 0 0;\n",
              "        width: 32px;\n",
              "      }\n",
              "\n",
              "      .colab-df-generate:hover {\n",
              "        background-color: #E2EBFA;\n",
              "        box-shadow: 0px 1px 2px rgba(60, 64, 67, 0.3), 0px 1px 3px 1px rgba(60, 64, 67, 0.15);\n",
              "        fill: #174EA6;\n",
              "      }\n",
              "\n",
              "      [theme=dark] .colab-df-generate {\n",
              "        background-color: #3B4455;\n",
              "        fill: #D2E3FC;\n",
              "      }\n",
              "\n",
              "      [theme=dark] .colab-df-generate:hover {\n",
              "        background-color: #434B5C;\n",
              "        box-shadow: 0px 1px 3px 1px rgba(0, 0, 0, 0.15);\n",
              "        filter: drop-shadow(0px 1px 2px rgba(0, 0, 0, 0.3));\n",
              "        fill: #FFFFFF;\n",
              "      }\n",
              "    </style>\n",
              "    <button class=\"colab-df-generate\" onclick=\"generateWithVariable('df')\"\n",
              "            title=\"Generate code using this dataframe.\"\n",
              "            style=\"display:none;\">\n",
              "\n",
              "  <svg xmlns=\"http://www.w3.org/2000/svg\" height=\"24px\"viewBox=\"0 0 24 24\"\n",
              "       width=\"24px\">\n",
              "    <path d=\"M7,19H8.4L18.45,9,17,7.55,7,17.6ZM5,21V16.75L18.45,3.32a2,2,0,0,1,2.83,0l1.4,1.43a1.91,1.91,0,0,1,.58,1.4,1.91,1.91,0,0,1-.58,1.4L9.25,21ZM18.45,9,17,7.55Zm-12,3A5.31,5.31,0,0,0,4.9,8.1,5.31,5.31,0,0,0,1,6.5,5.31,5.31,0,0,0,4.9,4.9,5.31,5.31,0,0,0,6.5,1,5.31,5.31,0,0,0,8.1,4.9,5.31,5.31,0,0,0,12,6.5,5.46,5.46,0,0,0,6.5,12Z\"/>\n",
              "  </svg>\n",
              "    </button>\n",
              "    <script>\n",
              "      (() => {\n",
              "      const buttonEl =\n",
              "        document.querySelector('#id_c13123ae-8356-46f8-a30f-3a271f73fa60 button.colab-df-generate');\n",
              "      buttonEl.style.display =\n",
              "        google.colab.kernel.accessAllowed ? 'block' : 'none';\n",
              "\n",
              "      buttonEl.onclick = () => {\n",
              "        google.colab.notebook.generateWithVariable('df');\n",
              "      }\n",
              "      })();\n",
              "    </script>\n",
              "  </div>\n",
              "\n",
              "    </div>\n",
              "  </div>\n"
            ]
          },
          "metadata": {},
          "execution_count": 15
        }
      ]
    },
    {
      "cell_type": "code",
      "metadata": {
        "id": "Dnd78HceQid9"
      },
      "source": [
        "# Preparando os dados de treino e de teste\n",
        "X_train = [[1] if a else [0] for a in df['Melhor Amigo']]\n",
        "y_train = [1 if d == 'Cachorro' else 0 for d in df['Especie']]\n",
        "labels = ['Melhor Amigo']"
      ],
      "execution_count": 16,
      "outputs": []
    },
    {
      "cell_type": "code",
      "metadata": {
        "id": "dLfU_zgMQieA",
        "outputId": "95ed1c15-3e3c-4fcd-ffcf-16782a775eea",
        "colab": {
          "base_uri": "https://localhost:8080/"
        }
      },
      "source": [
        "print(X_train)"
      ],
      "execution_count": 17,
      "outputs": [
        {
          "output_type": "stream",
          "name": "stdout",
          "text": [
            "[[0], [1], [1], [1], [0], [1], [1], [0], [1], [0], [0], [0], [1], [1]]\n"
          ]
        }
      ]
    },
    {
      "cell_type": "code",
      "metadata": {
        "id": "yVZOCA-aQieC",
        "colab": {
          "base_uri": "https://localhost:8080/"
        },
        "outputId": "5b813377-5481-4517-eb85-8295c9b89299"
      },
      "source": [
        "print(y_train)"
      ],
      "execution_count": 18,
      "outputs": [
        {
          "output_type": "stream",
          "name": "stdout",
          "text": [
            "[1, 1, 0, 0, 0, 0, 0, 1, 0, 1, 1, 0, 0, 1]\n"
          ]
        }
      ]
    },
    {
      "cell_type": "code",
      "metadata": {
        "id": "jMBYno_KQieE"
      },
      "source": [
        "# Construindo o Classificador Baseado em Entropia\n",
        "# http://scikit-learn.org/stable/modules/generated/sklearn.tree.DecisionTreeClassifier.html\n",
        "modelo_v1 = DecisionTreeClassifier(max_depth = None,        #profundidade da decision tree\n",
        "                                   max_features = None,     #quantidade máx de variaveis ou campos ou features...\n",
        "                                   criterion = 'entropy',\n",
        "                                   min_samples_leaf = 1,\n",
        "                                   min_samples_split = 2)"
      ],
      "execution_count": 19,
      "outputs": []
    },
    {
      "cell_type": "code",
      "metadata": {
        "id": "Z0WG5wngQieG",
        "colab": {
          "base_uri": "https://localhost:8080/",
          "height": 74
        },
        "outputId": "80fc8c1b-3e8f-4a6b-d923-76688c575940"
      },
      "source": [
        "# Apresentando os dados ao Classificador\n",
        "modelo_v1.fit(X_train, y_train)"
      ],
      "execution_count": 20,
      "outputs": [
        {
          "output_type": "execute_result",
          "data": {
            "text/plain": [
              "DecisionTreeClassifier(criterion='entropy')"
            ],
            "text/html": [
              "<style>#sk-container-id-1 {color: black;background-color: white;}#sk-container-id-1 pre{padding: 0;}#sk-container-id-1 div.sk-toggleable {background-color: white;}#sk-container-id-1 label.sk-toggleable__label {cursor: pointer;display: block;width: 100%;margin-bottom: 0;padding: 0.3em;box-sizing: border-box;text-align: center;}#sk-container-id-1 label.sk-toggleable__label-arrow:before {content: \"▸\";float: left;margin-right: 0.25em;color: #696969;}#sk-container-id-1 label.sk-toggleable__label-arrow:hover:before {color: black;}#sk-container-id-1 div.sk-estimator:hover label.sk-toggleable__label-arrow:before {color: black;}#sk-container-id-1 div.sk-toggleable__content {max-height: 0;max-width: 0;overflow: hidden;text-align: left;background-color: #f0f8ff;}#sk-container-id-1 div.sk-toggleable__content pre {margin: 0.2em;color: black;border-radius: 0.25em;background-color: #f0f8ff;}#sk-container-id-1 input.sk-toggleable__control:checked~div.sk-toggleable__content {max-height: 200px;max-width: 100%;overflow: auto;}#sk-container-id-1 input.sk-toggleable__control:checked~label.sk-toggleable__label-arrow:before {content: \"▾\";}#sk-container-id-1 div.sk-estimator input.sk-toggleable__control:checked~label.sk-toggleable__label {background-color: #d4ebff;}#sk-container-id-1 div.sk-label input.sk-toggleable__control:checked~label.sk-toggleable__label {background-color: #d4ebff;}#sk-container-id-1 input.sk-hidden--visually {border: 0;clip: rect(1px 1px 1px 1px);clip: rect(1px, 1px, 1px, 1px);height: 1px;margin: -1px;overflow: hidden;padding: 0;position: absolute;width: 1px;}#sk-container-id-1 div.sk-estimator {font-family: monospace;background-color: #f0f8ff;border: 1px dotted black;border-radius: 0.25em;box-sizing: border-box;margin-bottom: 0.5em;}#sk-container-id-1 div.sk-estimator:hover {background-color: #d4ebff;}#sk-container-id-1 div.sk-parallel-item::after {content: \"\";width: 100%;border-bottom: 1px solid gray;flex-grow: 1;}#sk-container-id-1 div.sk-label:hover label.sk-toggleable__label {background-color: #d4ebff;}#sk-container-id-1 div.sk-serial::before {content: \"\";position: absolute;border-left: 1px solid gray;box-sizing: border-box;top: 0;bottom: 0;left: 50%;z-index: 0;}#sk-container-id-1 div.sk-serial {display: flex;flex-direction: column;align-items: center;background-color: white;padding-right: 0.2em;padding-left: 0.2em;position: relative;}#sk-container-id-1 div.sk-item {position: relative;z-index: 1;}#sk-container-id-1 div.sk-parallel {display: flex;align-items: stretch;justify-content: center;background-color: white;position: relative;}#sk-container-id-1 div.sk-item::before, #sk-container-id-1 div.sk-parallel-item::before {content: \"\";position: absolute;border-left: 1px solid gray;box-sizing: border-box;top: 0;bottom: 0;left: 50%;z-index: -1;}#sk-container-id-1 div.sk-parallel-item {display: flex;flex-direction: column;z-index: 1;position: relative;background-color: white;}#sk-container-id-1 div.sk-parallel-item:first-child::after {align-self: flex-end;width: 50%;}#sk-container-id-1 div.sk-parallel-item:last-child::after {align-self: flex-start;width: 50%;}#sk-container-id-1 div.sk-parallel-item:only-child::after {width: 0;}#sk-container-id-1 div.sk-dashed-wrapped {border: 1px dashed gray;margin: 0 0.4em 0.5em 0.4em;box-sizing: border-box;padding-bottom: 0.4em;background-color: white;}#sk-container-id-1 div.sk-label label {font-family: monospace;font-weight: bold;display: inline-block;line-height: 1.2em;}#sk-container-id-1 div.sk-label-container {text-align: center;}#sk-container-id-1 div.sk-container {/* jupyter's `normalize.less` sets `[hidden] { display: none; }` but bootstrap.min.css set `[hidden] { display: none !important; }` so we also need the `!important` here to be able to override the default hidden behavior on the sphinx rendered scikit-learn.org. See: https://github.com/scikit-learn/scikit-learn/issues/21755 */display: inline-block !important;position: relative;}#sk-container-id-1 div.sk-text-repr-fallback {display: none;}</style><div id=\"sk-container-id-1\" class=\"sk-top-container\"><div class=\"sk-text-repr-fallback\"><pre>DecisionTreeClassifier(criterion=&#x27;entropy&#x27;)</pre><b>In a Jupyter environment, please rerun this cell to show the HTML representation or trust the notebook. <br />On GitHub, the HTML representation is unable to render, please try loading this page with nbviewer.org.</b></div><div class=\"sk-container\" hidden><div class=\"sk-item\"><div class=\"sk-estimator sk-toggleable\"><input class=\"sk-toggleable__control sk-hidden--visually\" id=\"sk-estimator-id-1\" type=\"checkbox\" checked><label for=\"sk-estimator-id-1\" class=\"sk-toggleable__label sk-toggleable__label-arrow\">DecisionTreeClassifier</label><div class=\"sk-toggleable__content\"><pre>DecisionTreeClassifier(criterion=&#x27;entropy&#x27;)</pre></div></div></div></div></div>"
            ]
          },
          "metadata": {},
          "execution_count": 20
        }
      ]
    },
    {
      "cell_type": "code",
      "metadata": {
        "id": "PAsyPiL3QieI"
      },
      "source": [
        "# Definindo o nome do arquivo com a árvore de decisão\n",
        "arquivo = 'tree_modelo_v1.dot'"
      ],
      "execution_count": 21,
      "outputs": []
    },
    {
      "cell_type": "code",
      "metadata": {
        "id": "VdyJyh-xQieJ",
        "colab": {
          "base_uri": "https://localhost:8080/",
          "height": 242
        },
        "outputId": "4b0ecff2-7ca9-4131-b7ce-740add2382f6"
      },
      "source": [
        "# Gerando o gráfico da árvore de decisão\n",
        "export_graphviz(modelo_v1, out_file = arquivo, feature_names = labels)\n",
        "with open(arquivo) as f:\n",
        "    dot_graph = f.read()\n",
        "graphviz.Source(dot_graph)"
      ],
      "execution_count": 22,
      "outputs": [
        {
          "output_type": "execute_result",
          "data": {
            "image/svg+xml": "<?xml version=\"1.0\" encoding=\"UTF-8\" standalone=\"no\"?>\n<!DOCTYPE svg PUBLIC \"-//W3C//DTD SVG 1.1//EN\"\n \"http://www.w3.org/Graphics/SVG/1.1/DTD/svg11.dtd\">\n<!-- Generated by graphviz version 2.43.0 (0)\n -->\n<!-- Title: Tree Pages: 1 -->\n<svg width=\"248pt\" height=\"165pt\"\n viewBox=\"0.00 0.00 248.00 165.00\" xmlns=\"http://www.w3.org/2000/svg\" xmlns:xlink=\"http://www.w3.org/1999/xlink\">\n<g id=\"graph0\" class=\"graph\" transform=\"scale(1 1) rotate(0) translate(4 161)\">\n<title>Tree</title>\n<polygon fill=\"white\" stroke=\"transparent\" points=\"-4,4 -4,-161 244,-161 244,4 -4,4\"/>\n<!-- 0 -->\n<g id=\"node1\" class=\"node\">\n<title>0</title>\n<polygon fill=\"none\" stroke=\"black\" points=\"191,-157 48,-157 48,-89 191,-89 191,-157\"/>\n<text text-anchor=\"middle\" x=\"119.5\" y=\"-141.8\" font-family=\"Helvetica,sans-Serif\" font-size=\"14.00\">Melhor Amigo &lt;= 0.5</text>\n<text text-anchor=\"middle\" x=\"119.5\" y=\"-126.8\" font-family=\"Helvetica,sans-Serif\" font-size=\"14.00\">entropy = 0.985</text>\n<text text-anchor=\"middle\" x=\"119.5\" y=\"-111.8\" font-family=\"Helvetica,sans-Serif\" font-size=\"14.00\">samples = 14</text>\n<text text-anchor=\"middle\" x=\"119.5\" y=\"-96.8\" font-family=\"Helvetica,sans-Serif\" font-size=\"14.00\">value = [8, 6]</text>\n</g>\n<!-- 1 -->\n<g id=\"node2\" class=\"node\">\n<title>1</title>\n<polygon fill=\"none\" stroke=\"black\" points=\"111,-53 0,-53 0,0 111,0 111,-53\"/>\n<text text-anchor=\"middle\" x=\"55.5\" y=\"-37.8\" font-family=\"Helvetica,sans-Serif\" font-size=\"14.00\">entropy = 0.918</text>\n<text text-anchor=\"middle\" x=\"55.5\" y=\"-22.8\" font-family=\"Helvetica,sans-Serif\" font-size=\"14.00\">samples = 6</text>\n<text text-anchor=\"middle\" x=\"55.5\" y=\"-7.8\" font-family=\"Helvetica,sans-Serif\" font-size=\"14.00\">value = [2, 4]</text>\n</g>\n<!-- 0&#45;&gt;1 -->\n<g id=\"edge1\" class=\"edge\">\n<title>0&#45;&gt;1</title>\n<path fill=\"none\" stroke=\"black\" d=\"M97.12,-88.95C91.11,-80.07 84.6,-70.46 78.55,-61.54\"/>\n<polygon fill=\"black\" stroke=\"black\" points=\"81.44,-59.55 72.93,-53.24 75.64,-63.48 81.44,-59.55\"/>\n<text text-anchor=\"middle\" x=\"68.21\" y=\"-74.09\" font-family=\"Helvetica,sans-Serif\" font-size=\"14.00\">True</text>\n</g>\n<!-- 2 -->\n<g id=\"node3\" class=\"node\">\n<title>2</title>\n<polygon fill=\"none\" stroke=\"black\" points=\"240,-53 129,-53 129,0 240,0 240,-53\"/>\n<text text-anchor=\"middle\" x=\"184.5\" y=\"-37.8\" font-family=\"Helvetica,sans-Serif\" font-size=\"14.00\">entropy = 0.811</text>\n<text text-anchor=\"middle\" x=\"184.5\" y=\"-22.8\" font-family=\"Helvetica,sans-Serif\" font-size=\"14.00\">samples = 8</text>\n<text text-anchor=\"middle\" x=\"184.5\" y=\"-7.8\" font-family=\"Helvetica,sans-Serif\" font-size=\"14.00\">value = [6, 2]</text>\n</g>\n<!-- 0&#45;&gt;2 -->\n<g id=\"edge2\" class=\"edge\">\n<title>0&#45;&gt;2</title>\n<path fill=\"none\" stroke=\"black\" d=\"M142.23,-88.95C148.34,-80.07 154.95,-70.46 161.09,-61.54\"/>\n<polygon fill=\"black\" stroke=\"black\" points=\"164.01,-63.46 166.8,-53.24 158.25,-59.49 164.01,-63.46\"/>\n<text text-anchor=\"middle\" x=\"171.34\" y=\"-74.12\" font-family=\"Helvetica,sans-Serif\" font-size=\"14.00\">False</text>\n</g>\n</g>\n</svg>\n",
            "text/plain": [
              "<graphviz.sources.Source at 0x7f2a2a635240>"
            ]
          },
          "metadata": {},
          "execution_count": 22
        }
      ]
    },
    {
      "cell_type": "code",
      "metadata": {
        "id": "DGpgLnj4QieK"
      },
      "source": [
        "!dot -Tpng tree_modelo_v1.dot -o tree_modelo_v1.png"
      ],
      "execution_count": 23,
      "outputs": []
    },
    {
      "cell_type": "code",
      "metadata": {
        "id": "bQaddsHuQieL"
      },
      "source": [
        "# Construindo o Classificador Baseado no índice Gini\n",
        "# http://scikit-learn.org/stable/modules/generated/sklearn.tree.DecisionTreeClassifier.html\n",
        "modelo_v2 = DecisionTreeClassifier(max_depth = None,\n",
        "                                   max_features = None,\n",
        "                                   min_samples_leaf = 1,\n",
        "                                   min_samples_split = 2)"
      ],
      "execution_count": 24,
      "outputs": []
    },
    {
      "cell_type": "code",
      "metadata": {
        "id": "1cOOuBEkQieM",
        "colab": {
          "base_uri": "https://localhost:8080/",
          "height": 74
        },
        "outputId": "3ad9cf2c-516a-4a3d-ba4b-4b82ac8ccb5c"
      },
      "source": [
        "# Apresentando os dados ao Classificador\n",
        "modelo_v2.fit(X_train, y_train)"
      ],
      "execution_count": 25,
      "outputs": [
        {
          "output_type": "execute_result",
          "data": {
            "text/plain": [
              "DecisionTreeClassifier()"
            ],
            "text/html": [
              "<style>#sk-container-id-2 {color: black;background-color: white;}#sk-container-id-2 pre{padding: 0;}#sk-container-id-2 div.sk-toggleable {background-color: white;}#sk-container-id-2 label.sk-toggleable__label {cursor: pointer;display: block;width: 100%;margin-bottom: 0;padding: 0.3em;box-sizing: border-box;text-align: center;}#sk-container-id-2 label.sk-toggleable__label-arrow:before {content: \"▸\";float: left;margin-right: 0.25em;color: #696969;}#sk-container-id-2 label.sk-toggleable__label-arrow:hover:before {color: black;}#sk-container-id-2 div.sk-estimator:hover label.sk-toggleable__label-arrow:before {color: black;}#sk-container-id-2 div.sk-toggleable__content {max-height: 0;max-width: 0;overflow: hidden;text-align: left;background-color: #f0f8ff;}#sk-container-id-2 div.sk-toggleable__content pre {margin: 0.2em;color: black;border-radius: 0.25em;background-color: #f0f8ff;}#sk-container-id-2 input.sk-toggleable__control:checked~div.sk-toggleable__content {max-height: 200px;max-width: 100%;overflow: auto;}#sk-container-id-2 input.sk-toggleable__control:checked~label.sk-toggleable__label-arrow:before {content: \"▾\";}#sk-container-id-2 div.sk-estimator input.sk-toggleable__control:checked~label.sk-toggleable__label {background-color: #d4ebff;}#sk-container-id-2 div.sk-label input.sk-toggleable__control:checked~label.sk-toggleable__label {background-color: #d4ebff;}#sk-container-id-2 input.sk-hidden--visually {border: 0;clip: rect(1px 1px 1px 1px);clip: rect(1px, 1px, 1px, 1px);height: 1px;margin: -1px;overflow: hidden;padding: 0;position: absolute;width: 1px;}#sk-container-id-2 div.sk-estimator {font-family: monospace;background-color: #f0f8ff;border: 1px dotted black;border-radius: 0.25em;box-sizing: border-box;margin-bottom: 0.5em;}#sk-container-id-2 div.sk-estimator:hover {background-color: #d4ebff;}#sk-container-id-2 div.sk-parallel-item::after {content: \"\";width: 100%;border-bottom: 1px solid gray;flex-grow: 1;}#sk-container-id-2 div.sk-label:hover label.sk-toggleable__label {background-color: #d4ebff;}#sk-container-id-2 div.sk-serial::before {content: \"\";position: absolute;border-left: 1px solid gray;box-sizing: border-box;top: 0;bottom: 0;left: 50%;z-index: 0;}#sk-container-id-2 div.sk-serial {display: flex;flex-direction: column;align-items: center;background-color: white;padding-right: 0.2em;padding-left: 0.2em;position: relative;}#sk-container-id-2 div.sk-item {position: relative;z-index: 1;}#sk-container-id-2 div.sk-parallel {display: flex;align-items: stretch;justify-content: center;background-color: white;position: relative;}#sk-container-id-2 div.sk-item::before, #sk-container-id-2 div.sk-parallel-item::before {content: \"\";position: absolute;border-left: 1px solid gray;box-sizing: border-box;top: 0;bottom: 0;left: 50%;z-index: -1;}#sk-container-id-2 div.sk-parallel-item {display: flex;flex-direction: column;z-index: 1;position: relative;background-color: white;}#sk-container-id-2 div.sk-parallel-item:first-child::after {align-self: flex-end;width: 50%;}#sk-container-id-2 div.sk-parallel-item:last-child::after {align-self: flex-start;width: 50%;}#sk-container-id-2 div.sk-parallel-item:only-child::after {width: 0;}#sk-container-id-2 div.sk-dashed-wrapped {border: 1px dashed gray;margin: 0 0.4em 0.5em 0.4em;box-sizing: border-box;padding-bottom: 0.4em;background-color: white;}#sk-container-id-2 div.sk-label label {font-family: monospace;font-weight: bold;display: inline-block;line-height: 1.2em;}#sk-container-id-2 div.sk-label-container {text-align: center;}#sk-container-id-2 div.sk-container {/* jupyter's `normalize.less` sets `[hidden] { display: none; }` but bootstrap.min.css set `[hidden] { display: none !important; }` so we also need the `!important` here to be able to override the default hidden behavior on the sphinx rendered scikit-learn.org. See: https://github.com/scikit-learn/scikit-learn/issues/21755 */display: inline-block !important;position: relative;}#sk-container-id-2 div.sk-text-repr-fallback {display: none;}</style><div id=\"sk-container-id-2\" class=\"sk-top-container\"><div class=\"sk-text-repr-fallback\"><pre>DecisionTreeClassifier()</pre><b>In a Jupyter environment, please rerun this cell to show the HTML representation or trust the notebook. <br />On GitHub, the HTML representation is unable to render, please try loading this page with nbviewer.org.</b></div><div class=\"sk-container\" hidden><div class=\"sk-item\"><div class=\"sk-estimator sk-toggleable\"><input class=\"sk-toggleable__control sk-hidden--visually\" id=\"sk-estimator-id-2\" type=\"checkbox\" checked><label for=\"sk-estimator-id-2\" class=\"sk-toggleable__label sk-toggleable__label-arrow\">DecisionTreeClassifier</label><div class=\"sk-toggleable__content\"><pre>DecisionTreeClassifier()</pre></div></div></div></div></div>"
            ]
          },
          "metadata": {},
          "execution_count": 25
        }
      ]
    },
    {
      "cell_type": "code",
      "metadata": {
        "id": "Pm0UR07QQieM"
      },
      "source": [
        "# Definindo o nome do arquivo com a árvore de decisão\n",
        "arquivo = 'tree_modelo_v2.dot'"
      ],
      "execution_count": 26,
      "outputs": []
    },
    {
      "cell_type": "code",
      "metadata": {
        "id": "IeEoGEEIQieN",
        "colab": {
          "base_uri": "https://localhost:8080/",
          "height": 242
        },
        "outputId": "b3a3c8a2-d209-4b47-ddcf-4e06d25efdcb"
      },
      "source": [
        "# Gerando o gráfico da árvore de decisão\n",
        "export_graphviz(modelo_v2, out_file = arquivo, feature_names = labels)\n",
        "with open(arquivo) as f:\n",
        "    dot_graph = f.read()\n",
        "graphviz.Source(dot_graph)"
      ],
      "execution_count": 27,
      "outputs": [
        {
          "output_type": "execute_result",
          "data": {
            "image/svg+xml": "<?xml version=\"1.0\" encoding=\"UTF-8\" standalone=\"no\"?>\n<!DOCTYPE svg PUBLIC \"-//W3C//DTD SVG 1.1//EN\"\n \"http://www.w3.org/Graphics/SVG/1.1/DTD/svg11.dtd\">\n<!-- Generated by graphviz version 2.43.0 (0)\n -->\n<!-- Title: Tree Pages: 1 -->\n<svg width=\"216pt\" height=\"165pt\"\n viewBox=\"0.00 0.00 216.00 165.00\" xmlns=\"http://www.w3.org/2000/svg\" xmlns:xlink=\"http://www.w3.org/1999/xlink\">\n<g id=\"graph0\" class=\"graph\" transform=\"scale(1 1) rotate(0) translate(4 161)\">\n<title>Tree</title>\n<polygon fill=\"white\" stroke=\"transparent\" points=\"-4,4 -4,-161 212,-161 212,4 -4,4\"/>\n<!-- 0 -->\n<g id=\"node1\" class=\"node\">\n<title>0</title>\n<polygon fill=\"none\" stroke=\"black\" points=\"175,-157 32,-157 32,-89 175,-89 175,-157\"/>\n<text text-anchor=\"middle\" x=\"103.5\" y=\"-141.8\" font-family=\"Helvetica,sans-Serif\" font-size=\"14.00\">Melhor Amigo &lt;= 0.5</text>\n<text text-anchor=\"middle\" x=\"103.5\" y=\"-126.8\" font-family=\"Helvetica,sans-Serif\" font-size=\"14.00\">gini = 0.49</text>\n<text text-anchor=\"middle\" x=\"103.5\" y=\"-111.8\" font-family=\"Helvetica,sans-Serif\" font-size=\"14.00\">samples = 14</text>\n<text text-anchor=\"middle\" x=\"103.5\" y=\"-96.8\" font-family=\"Helvetica,sans-Serif\" font-size=\"14.00\">value = [8, 6]</text>\n</g>\n<!-- 1 -->\n<g id=\"node2\" class=\"node\">\n<title>1</title>\n<polygon fill=\"none\" stroke=\"black\" points=\"95,-53 0,-53 0,0 95,0 95,-53\"/>\n<text text-anchor=\"middle\" x=\"47.5\" y=\"-37.8\" font-family=\"Helvetica,sans-Serif\" font-size=\"14.00\">gini = 0.444</text>\n<text text-anchor=\"middle\" x=\"47.5\" y=\"-22.8\" font-family=\"Helvetica,sans-Serif\" font-size=\"14.00\">samples = 6</text>\n<text text-anchor=\"middle\" x=\"47.5\" y=\"-7.8\" font-family=\"Helvetica,sans-Serif\" font-size=\"14.00\">value = [2, 4]</text>\n</g>\n<!-- 0&#45;&gt;1 -->\n<g id=\"edge1\" class=\"edge\">\n<title>0&#45;&gt;1</title>\n<path fill=\"none\" stroke=\"black\" d=\"M83.91,-88.95C78.76,-80.26 73.2,-70.86 68,-62.09\"/>\n<polygon fill=\"black\" stroke=\"black\" points=\"70.86,-60.06 62.75,-53.24 64.84,-63.62 70.86,-60.06\"/>\n<text text-anchor=\"middle\" x=\"56.56\" y=\"-73.76\" font-family=\"Helvetica,sans-Serif\" font-size=\"14.00\">True</text>\n</g>\n<!-- 2 -->\n<g id=\"node3\" class=\"node\">\n<title>2</title>\n<polygon fill=\"none\" stroke=\"black\" points=\"208,-53 113,-53 113,0 208,0 208,-53\"/>\n<text text-anchor=\"middle\" x=\"160.5\" y=\"-37.8\" font-family=\"Helvetica,sans-Serif\" font-size=\"14.00\">gini = 0.375</text>\n<text text-anchor=\"middle\" x=\"160.5\" y=\"-22.8\" font-family=\"Helvetica,sans-Serif\" font-size=\"14.00\">samples = 8</text>\n<text text-anchor=\"middle\" x=\"160.5\" y=\"-7.8\" font-family=\"Helvetica,sans-Serif\" font-size=\"14.00\">value = [6, 2]</text>\n</g>\n<!-- 0&#45;&gt;2 -->\n<g id=\"edge2\" class=\"edge\">\n<title>0&#45;&gt;2</title>\n<path fill=\"none\" stroke=\"black\" d=\"M123.44,-88.95C128.73,-80.17 134.47,-70.66 139.8,-61.82\"/>\n<polygon fill=\"black\" stroke=\"black\" points=\"142.81,-63.61 144.98,-53.24 136.81,-59.99 142.81,-63.61\"/>\n<text text-anchor=\"middle\" x=\"150.98\" y=\"-73.8\" font-family=\"Helvetica,sans-Serif\" font-size=\"14.00\">False</text>\n</g>\n</g>\n</svg>\n",
            "text/plain": [
              "<graphviz.sources.Source at 0x7f2a2a636470>"
            ]
          },
          "metadata": {},
          "execution_count": 27
        }
      ]
    },
    {
      "cell_type": "code",
      "metadata": {
        "id": "Rqi8g6JcQieO"
      },
      "source": [
        "!dot -Tpng tree_modelo_v2.dot -o tree_modelo_v2.png"
      ],
      "execution_count": 28,
      "outputs": []
    },
    {
      "cell_type": "markdown",
      "metadata": {
        "id": "A1eaRA1fD2PW"
      },
      "source": [
        "![alt text](https://encrypted-tbn0.gstatic.com/images?q=tbn%3AANd9GcTK4gQ9nhwHHaSXMHpeggWg7twwMCgb877smkRmtkmDeDoGF9Z6&usqp=CAU)"
      ]
    },
    {
      "cell_type": "markdown",
      "metadata": {
        "id": "tg79pBp_lsDY"
      },
      "source": [
        "## 5. **Caso Real - Prevendo Default de Clientes Nubank**\n"
      ]
    },
    {
      "cell_type": "markdown",
      "metadata": {
        "id": "1dNfggIQkrFP"
      },
      "source": [
        "![](https://media.giphy.com/media/ghUQ9Uf7mYgz8ZLyhJ/giphy.gif)"
      ]
    },
    {
      "cell_type": "markdown",
      "metadata": {
        "id": "61EVbNtC-U6z"
      },
      "source": [
        "### 1° Problema de Negócio\n",
        "\n",
        "Precisamos prever o **Default de Clientes do Nubank** para que o departamento de Cartões possa tomar medidas Pró-Ativas.\n",
        "![](https://aws1.discourse-cdn.com/nubank/original/3X/e/4/e4b234b6c0de57c163127174c7466017c6d0507d.gif)"
      ]
    },
    {
      "cell_type": "markdown",
      "metadata": {
        "id": "VU_jUnuI-p0v"
      },
      "source": [
        "###2° Análise Exploratória\n",
        "\n",
        "Esta etapa ajuda a descobrir os problemas que desejaremos abordar na próxima etapa e levar em consideração ao construir e avaliar nosso modelo. Também queremos encontrar relacionamentos ou padrões interessantes que possamos potencializar na solução do problema que especificamos."
      ]
    },
    {
      "cell_type": "code",
      "metadata": {
        "id": "OzTm983HkG1o",
        "colab": {
          "base_uri": "https://localhost:8080/",
          "height": 243
        },
        "outputId": "44c7b919-5d20-4afb-a7aa-718df4e7a446"
      },
      "source": [
        "import pandas as pd\n",
        "import numpy as np\n",
        "import matplotlib.pyplot as plt\n",
        "from sklearn.metrics import f1_score\n",
        "from sklearn.model_selection import train_test_split\n",
        "\n",
        "# Importing dataset\n",
        "df=pd.read_csv('nubank.csv')\n",
        "df.head()\n",
        "\n",
        "#demais atividades da análise exploratória"
      ],
      "execution_count": 29,
      "outputs": [
        {
          "output_type": "execute_result",
          "data": {
            "text/plain": [
              "    Loan_ID Gender Married Dependents     Education Self_Employed  \\\n",
              "0  LP001002   Male      No          0      Graduate            No   \n",
              "1  LP001003   Male     Yes          1      Graduate            No   \n",
              "2  LP001005   Male     Yes          0      Graduate           Yes   \n",
              "3  LP001006   Male     Yes          0  Not Graduate            No   \n",
              "4  LP001008   Male      No          0      Graduate            No   \n",
              "\n",
              "   ApplicantIncome  CoapplicantIncome  LoanAmount  Loan_Amount_Term  \\\n",
              "0             5849                0.0         NaN             360.0   \n",
              "1             4583             1508.0       128.0             360.0   \n",
              "2             3000                0.0        66.0             360.0   \n",
              "3             2583             2358.0       120.0             360.0   \n",
              "4             6000                0.0       141.0             360.0   \n",
              "\n",
              "   Credit_History Property_Area Loan_Status  \n",
              "0             1.0         Urban           Y  \n",
              "1             1.0         Rural           N  \n",
              "2             1.0         Urban           Y  \n",
              "3             1.0         Urban           Y  \n",
              "4             1.0         Urban           Y  "
            ],
            "text/html": [
              "\n",
              "  <div id=\"df-7398dab1-15b4-4abf-bc8a-5a1a7ddae157\" class=\"colab-df-container\">\n",
              "    <div>\n",
              "<style scoped>\n",
              "    .dataframe tbody tr th:only-of-type {\n",
              "        vertical-align: middle;\n",
              "    }\n",
              "\n",
              "    .dataframe tbody tr th {\n",
              "        vertical-align: top;\n",
              "    }\n",
              "\n",
              "    .dataframe thead th {\n",
              "        text-align: right;\n",
              "    }\n",
              "</style>\n",
              "<table border=\"1\" class=\"dataframe\">\n",
              "  <thead>\n",
              "    <tr style=\"text-align: right;\">\n",
              "      <th></th>\n",
              "      <th>Loan_ID</th>\n",
              "      <th>Gender</th>\n",
              "      <th>Married</th>\n",
              "      <th>Dependents</th>\n",
              "      <th>Education</th>\n",
              "      <th>Self_Employed</th>\n",
              "      <th>ApplicantIncome</th>\n",
              "      <th>CoapplicantIncome</th>\n",
              "      <th>LoanAmount</th>\n",
              "      <th>Loan_Amount_Term</th>\n",
              "      <th>Credit_History</th>\n",
              "      <th>Property_Area</th>\n",
              "      <th>Loan_Status</th>\n",
              "    </tr>\n",
              "  </thead>\n",
              "  <tbody>\n",
              "    <tr>\n",
              "      <th>0</th>\n",
              "      <td>LP001002</td>\n",
              "      <td>Male</td>\n",
              "      <td>No</td>\n",
              "      <td>0</td>\n",
              "      <td>Graduate</td>\n",
              "      <td>No</td>\n",
              "      <td>5849</td>\n",
              "      <td>0.0</td>\n",
              "      <td>NaN</td>\n",
              "      <td>360.0</td>\n",
              "      <td>1.0</td>\n",
              "      <td>Urban</td>\n",
              "      <td>Y</td>\n",
              "    </tr>\n",
              "    <tr>\n",
              "      <th>1</th>\n",
              "      <td>LP001003</td>\n",
              "      <td>Male</td>\n",
              "      <td>Yes</td>\n",
              "      <td>1</td>\n",
              "      <td>Graduate</td>\n",
              "      <td>No</td>\n",
              "      <td>4583</td>\n",
              "      <td>1508.0</td>\n",
              "      <td>128.0</td>\n",
              "      <td>360.0</td>\n",
              "      <td>1.0</td>\n",
              "      <td>Rural</td>\n",
              "      <td>N</td>\n",
              "    </tr>\n",
              "    <tr>\n",
              "      <th>2</th>\n",
              "      <td>LP001005</td>\n",
              "      <td>Male</td>\n",
              "      <td>Yes</td>\n",
              "      <td>0</td>\n",
              "      <td>Graduate</td>\n",
              "      <td>Yes</td>\n",
              "      <td>3000</td>\n",
              "      <td>0.0</td>\n",
              "      <td>66.0</td>\n",
              "      <td>360.0</td>\n",
              "      <td>1.0</td>\n",
              "      <td>Urban</td>\n",
              "      <td>Y</td>\n",
              "    </tr>\n",
              "    <tr>\n",
              "      <th>3</th>\n",
              "      <td>LP001006</td>\n",
              "      <td>Male</td>\n",
              "      <td>Yes</td>\n",
              "      <td>0</td>\n",
              "      <td>Not Graduate</td>\n",
              "      <td>No</td>\n",
              "      <td>2583</td>\n",
              "      <td>2358.0</td>\n",
              "      <td>120.0</td>\n",
              "      <td>360.0</td>\n",
              "      <td>1.0</td>\n",
              "      <td>Urban</td>\n",
              "      <td>Y</td>\n",
              "    </tr>\n",
              "    <tr>\n",
              "      <th>4</th>\n",
              "      <td>LP001008</td>\n",
              "      <td>Male</td>\n",
              "      <td>No</td>\n",
              "      <td>0</td>\n",
              "      <td>Graduate</td>\n",
              "      <td>No</td>\n",
              "      <td>6000</td>\n",
              "      <td>0.0</td>\n",
              "      <td>141.0</td>\n",
              "      <td>360.0</td>\n",
              "      <td>1.0</td>\n",
              "      <td>Urban</td>\n",
              "      <td>Y</td>\n",
              "    </tr>\n",
              "  </tbody>\n",
              "</table>\n",
              "</div>\n",
              "    <div class=\"colab-df-buttons\">\n",
              "\n",
              "  <div class=\"colab-df-container\">\n",
              "    <button class=\"colab-df-convert\" onclick=\"convertToInteractive('df-7398dab1-15b4-4abf-bc8a-5a1a7ddae157')\"\n",
              "            title=\"Convert this dataframe to an interactive table.\"\n",
              "            style=\"display:none;\">\n",
              "\n",
              "  <svg xmlns=\"http://www.w3.org/2000/svg\" height=\"24px\" viewBox=\"0 -960 960 960\">\n",
              "    <path d=\"M120-120v-720h720v720H120Zm60-500h600v-160H180v160Zm220 220h160v-160H400v160Zm0 220h160v-160H400v160ZM180-400h160v-160H180v160Zm440 0h160v-160H620v160ZM180-180h160v-160H180v160Zm440 0h160v-160H620v160Z\"/>\n",
              "  </svg>\n",
              "    </button>\n",
              "\n",
              "  <style>\n",
              "    .colab-df-container {\n",
              "      display:flex;\n",
              "      gap: 12px;\n",
              "    }\n",
              "\n",
              "    .colab-df-convert {\n",
              "      background-color: #E8F0FE;\n",
              "      border: none;\n",
              "      border-radius: 50%;\n",
              "      cursor: pointer;\n",
              "      display: none;\n",
              "      fill: #1967D2;\n",
              "      height: 32px;\n",
              "      padding: 0 0 0 0;\n",
              "      width: 32px;\n",
              "    }\n",
              "\n",
              "    .colab-df-convert:hover {\n",
              "      background-color: #E2EBFA;\n",
              "      box-shadow: 0px 1px 2px rgba(60, 64, 67, 0.3), 0px 1px 3px 1px rgba(60, 64, 67, 0.15);\n",
              "      fill: #174EA6;\n",
              "    }\n",
              "\n",
              "    .colab-df-buttons div {\n",
              "      margin-bottom: 4px;\n",
              "    }\n",
              "\n",
              "    [theme=dark] .colab-df-convert {\n",
              "      background-color: #3B4455;\n",
              "      fill: #D2E3FC;\n",
              "    }\n",
              "\n",
              "    [theme=dark] .colab-df-convert:hover {\n",
              "      background-color: #434B5C;\n",
              "      box-shadow: 0px 1px 3px 1px rgba(0, 0, 0, 0.15);\n",
              "      filter: drop-shadow(0px 1px 2px rgba(0, 0, 0, 0.3));\n",
              "      fill: #FFFFFF;\n",
              "    }\n",
              "  </style>\n",
              "\n",
              "    <script>\n",
              "      const buttonEl =\n",
              "        document.querySelector('#df-7398dab1-15b4-4abf-bc8a-5a1a7ddae157 button.colab-df-convert');\n",
              "      buttonEl.style.display =\n",
              "        google.colab.kernel.accessAllowed ? 'block' : 'none';\n",
              "\n",
              "      async function convertToInteractive(key) {\n",
              "        const element = document.querySelector('#df-7398dab1-15b4-4abf-bc8a-5a1a7ddae157');\n",
              "        const dataTable =\n",
              "          await google.colab.kernel.invokeFunction('convertToInteractive',\n",
              "                                                    [key], {});\n",
              "        if (!dataTable) return;\n",
              "\n",
              "        const docLinkHtml = 'Like what you see? Visit the ' +\n",
              "          '<a target=\"_blank\" href=https://colab.research.google.com/notebooks/data_table.ipynb>data table notebook</a>'\n",
              "          + ' to learn more about interactive tables.';\n",
              "        element.innerHTML = '';\n",
              "        dataTable['output_type'] = 'display_data';\n",
              "        await google.colab.output.renderOutput(dataTable, element);\n",
              "        const docLink = document.createElement('div');\n",
              "        docLink.innerHTML = docLinkHtml;\n",
              "        element.appendChild(docLink);\n",
              "      }\n",
              "    </script>\n",
              "  </div>\n",
              "\n",
              "\n",
              "<div id=\"df-99ba21be-7ec1-4ff9-8631-d647344becac\">\n",
              "  <button class=\"colab-df-quickchart\" onclick=\"quickchart('df-99ba21be-7ec1-4ff9-8631-d647344becac')\"\n",
              "            title=\"Suggest charts\"\n",
              "            style=\"display:none;\">\n",
              "\n",
              "<svg xmlns=\"http://www.w3.org/2000/svg\" height=\"24px\"viewBox=\"0 0 24 24\"\n",
              "     width=\"24px\">\n",
              "    <g>\n",
              "        <path d=\"M19 3H5c-1.1 0-2 .9-2 2v14c0 1.1.9 2 2 2h14c1.1 0 2-.9 2-2V5c0-1.1-.9-2-2-2zM9 17H7v-7h2v7zm4 0h-2V7h2v10zm4 0h-2v-4h2v4z\"/>\n",
              "    </g>\n",
              "</svg>\n",
              "  </button>\n",
              "\n",
              "<style>\n",
              "  .colab-df-quickchart {\n",
              "      --bg-color: #E8F0FE;\n",
              "      --fill-color: #1967D2;\n",
              "      --hover-bg-color: #E2EBFA;\n",
              "      --hover-fill-color: #174EA6;\n",
              "      --disabled-fill-color: #AAA;\n",
              "      --disabled-bg-color: #DDD;\n",
              "  }\n",
              "\n",
              "  [theme=dark] .colab-df-quickchart {\n",
              "      --bg-color: #3B4455;\n",
              "      --fill-color: #D2E3FC;\n",
              "      --hover-bg-color: #434B5C;\n",
              "      --hover-fill-color: #FFFFFF;\n",
              "      --disabled-bg-color: #3B4455;\n",
              "      --disabled-fill-color: #666;\n",
              "  }\n",
              "\n",
              "  .colab-df-quickchart {\n",
              "    background-color: var(--bg-color);\n",
              "    border: none;\n",
              "    border-radius: 50%;\n",
              "    cursor: pointer;\n",
              "    display: none;\n",
              "    fill: var(--fill-color);\n",
              "    height: 32px;\n",
              "    padding: 0;\n",
              "    width: 32px;\n",
              "  }\n",
              "\n",
              "  .colab-df-quickchart:hover {\n",
              "    background-color: var(--hover-bg-color);\n",
              "    box-shadow: 0 1px 2px rgba(60, 64, 67, 0.3), 0 1px 3px 1px rgba(60, 64, 67, 0.15);\n",
              "    fill: var(--button-hover-fill-color);\n",
              "  }\n",
              "\n",
              "  .colab-df-quickchart-complete:disabled,\n",
              "  .colab-df-quickchart-complete:disabled:hover {\n",
              "    background-color: var(--disabled-bg-color);\n",
              "    fill: var(--disabled-fill-color);\n",
              "    box-shadow: none;\n",
              "  }\n",
              "\n",
              "  .colab-df-spinner {\n",
              "    border: 2px solid var(--fill-color);\n",
              "    border-color: transparent;\n",
              "    border-bottom-color: var(--fill-color);\n",
              "    animation:\n",
              "      spin 1s steps(1) infinite;\n",
              "  }\n",
              "\n",
              "  @keyframes spin {\n",
              "    0% {\n",
              "      border-color: transparent;\n",
              "      border-bottom-color: var(--fill-color);\n",
              "      border-left-color: var(--fill-color);\n",
              "    }\n",
              "    20% {\n",
              "      border-color: transparent;\n",
              "      border-left-color: var(--fill-color);\n",
              "      border-top-color: var(--fill-color);\n",
              "    }\n",
              "    30% {\n",
              "      border-color: transparent;\n",
              "      border-left-color: var(--fill-color);\n",
              "      border-top-color: var(--fill-color);\n",
              "      border-right-color: var(--fill-color);\n",
              "    }\n",
              "    40% {\n",
              "      border-color: transparent;\n",
              "      border-right-color: var(--fill-color);\n",
              "      border-top-color: var(--fill-color);\n",
              "    }\n",
              "    60% {\n",
              "      border-color: transparent;\n",
              "      border-right-color: var(--fill-color);\n",
              "    }\n",
              "    80% {\n",
              "      border-color: transparent;\n",
              "      border-right-color: var(--fill-color);\n",
              "      border-bottom-color: var(--fill-color);\n",
              "    }\n",
              "    90% {\n",
              "      border-color: transparent;\n",
              "      border-bottom-color: var(--fill-color);\n",
              "    }\n",
              "  }\n",
              "</style>\n",
              "\n",
              "  <script>\n",
              "    async function quickchart(key) {\n",
              "      const quickchartButtonEl =\n",
              "        document.querySelector('#' + key + ' button');\n",
              "      quickchartButtonEl.disabled = true;  // To prevent multiple clicks.\n",
              "      quickchartButtonEl.classList.add('colab-df-spinner');\n",
              "      try {\n",
              "        const charts = await google.colab.kernel.invokeFunction(\n",
              "            'suggestCharts', [key], {});\n",
              "      } catch (error) {\n",
              "        console.error('Error during call to suggestCharts:', error);\n",
              "      }\n",
              "      quickchartButtonEl.classList.remove('colab-df-spinner');\n",
              "      quickchartButtonEl.classList.add('colab-df-quickchart-complete');\n",
              "    }\n",
              "    (() => {\n",
              "      let quickchartButtonEl =\n",
              "        document.querySelector('#df-99ba21be-7ec1-4ff9-8631-d647344becac button');\n",
              "      quickchartButtonEl.style.display =\n",
              "        google.colab.kernel.accessAllowed ? 'block' : 'none';\n",
              "    })();\n",
              "  </script>\n",
              "</div>\n",
              "\n",
              "    </div>\n",
              "  </div>\n"
            ]
          },
          "metadata": {},
          "execution_count": 29
        }
      ]
    },
    {
      "cell_type": "markdown",
      "metadata": {
        "id": "ajh0_bgN-vWC"
      },
      "source": [
        "###3° Pré-processamento dos Dados\n",
        "\n",
        "Esta etapa normalmente leva mais tempo no ciclo, mas para nossos propósitoso conjunto de dados escolhido nesta série são limpos.\n",
        "\n",
        "Os conjuntos de dados do mundo real são zoneados e incompletos. As escolhas que fazemos nesta etapa para resolver problemas de dados podem afetar as etapas posteriores e o próprio resultado.\n",
        "\n",
        "Por exemplo, pode ser complicado lidar com dados ausentes quando não sabemos por que eles estão ausentes. Está faltando completamente ao acaso ou não? Também pode ser complicado lidar com outliers se não entendermos o domínio e o contexto do problema o suficiente.\n",
        "\n",
        "Primeiro, lembre-se de que encontramos valores duplicados na etapa anterior. Vamos ver os registros."
      ]
    },
    {
      "cell_type": "code",
      "metadata": {
        "id": "TDf6Z61skKVm",
        "colab": {
          "base_uri": "https://localhost:8080/"
        },
        "outputId": "e5c78a80-e62a-43c2-e28f-fae7c0aef402"
      },
      "source": [
        "# Data Preprocessing and null values imputation\n",
        "# Label Encoding\n",
        "df['Gender']=df['Gender'].map({'Male':1,'Female':0})\n",
        "df['Married']=df['Married'].map({'Yes':1,'No':0})\n",
        "df['Education']=df['Education'].map({'Graduate':1,'Not Graduate':0})\n",
        "df['Dependents'].replace('3+',3,inplace=True)\n",
        "df['Self_Employed']=df['Self_Employed'].map({'Yes':1,'No':0})\n",
        "df['Property_Area']=df['Property_Area'].map({'Semiurban':1,'Urban':2,'Rural':3})\n",
        "df['Loan_Status']=df['Loan_Status'].map({'Y':1,'N':0})\n",
        "\n",
        "#Null Value Imputation\n",
        "rev_null=['Gender','Married','Dependents','Self_Employed','Credit_History','LoanAmount','Loan_Amount_Term']\n",
        "df[rev_null]=df[rev_null].replace({np.nan:df['Gender'].mode(),\n",
        "                                   np.nan:df['Married'].mode(),\n",
        "                                   np.nan:df['Dependents'].mode(),\n",
        "                                   np.nan:df['Self_Employed'].mode(),\n",
        "                                   np.nan:df['Credit_History'].mode(),\n",
        "                                   np.nan:df['LoanAmount'].mean(),\n",
        "                                   np.nan:df['Loan_Amount_Term'].mean()})\n",
        "\n",
        "\n",
        "X=df.drop(columns=['Loan_ID','Loan_Status']).values\n",
        "Y=df['Loan_Status'].values\n",
        "X_train, X_test, Y_train, Y_test = train_test_split(X, Y, test_size = 0.2, random_state = 42)\n",
        "\n",
        "print('Shape of X_train=>',X_train.shape)\n",
        "print('Shape of X_test=>',X_test.shape)\n",
        "print('Shape of Y_train=>',Y_train.shape)\n",
        "print('Shape of Y_test=>',Y_test.shape)\n",
        "\n"
      ],
      "execution_count": 30,
      "outputs": [
        {
          "output_type": "stream",
          "name": "stdout",
          "text": [
            "Shape of X_train=> (491, 11)\n",
            "Shape of X_test=> (123, 11)\n",
            "Shape of Y_train=> (491,)\n",
            "Shape of Y_test=> (123,)\n"
          ]
        }
      ]
    },
    {
      "cell_type": "markdown",
      "metadata": {
        "id": "vOgQp8Ye-0ke"
      },
      "source": [
        "###4° Construção da Máquina Preditiva"
      ]
    },
    {
      "cell_type": "code",
      "metadata": {
        "id": "dRjMSFavkNnK"
      },
      "source": [
        "# Building Decision Tree\n",
        "from sklearn.tree import DecisionTreeClassifier\n",
        "\n",
        "dt = DecisionTreeClassifier(max_depth=3 ,  criterion = 'entropy', random_state = 7)\n",
        "\n",
        "dt.fit(X_train, Y_train)\n",
        "\n",
        "dt_pred_train = dt.predict(X_train)\n",
        "\n"
      ],
      "execution_count": 31,
      "outputs": []
    },
    {
      "cell_type": "markdown",
      "metadata": {
        "id": "-LVQVD4G-5RQ"
      },
      "source": [
        "###5° Avaliação da Máquina Preditiva"
      ]
    },
    {
      "cell_type": "code",
      "metadata": {
        "id": "x-zp-ssukQNa",
        "colab": {
          "base_uri": "https://localhost:8080/"
        },
        "outputId": "7f535218-6c27-46c8-9181-fa0179675843"
      },
      "source": [
        "# Evaluation on Training set\n",
        "dt_pred_train = dt.predict(X_train)\n",
        "print('Training Set Evaluation F1-Score=>',f1_score(Y_train,dt_pred_train))\n",
        "\n",
        "# Evaluating on Test set\n",
        "dt_pred_test = dt.predict(X_test)\n",
        "print('Testing Set Evaluation F1-Score=>',f1_score(Y_test,dt_pred_test))\n"
      ],
      "execution_count": 32,
      "outputs": [
        {
          "output_type": "stream",
          "name": "stdout",
          "text": [
            "Training Set Evaluation F1-Score=> 0.8842105263157894\n",
            "Testing Set Evaluation F1-Score=> 0.8586956521739131\n"
          ]
        }
      ]
    },
    {
      "cell_type": "code",
      "metadata": {
        "id": "Ua97ee6_8m32"
      },
      "source": [],
      "execution_count": 32,
      "outputs": []
    },
    {
      "cell_type": "markdown",
      "metadata": {
        "id": "XTRc7NjBKG65"
      },
      "source": [
        "# Fim"
      ]
    },
    {
      "cell_type": "markdown",
      "metadata": {
        "id": "_fHqFSvWe94c"
      },
      "source": [
        "## Valeu!"
      ]
    },
    {
      "cell_type": "markdown",
      "metadata": {
        "id": "JCGIEsSrKG66"
      },
      "source": [
        "### # Instagram - Ciencia dos Dados\n",
        "<a href=\"http://instagram.com/cienciadosdados\">instagram.com/cienciadosdados</a>\n",
        "\n",
        "### # Material Complementar\n",
        "https://colab.research.google.com/drive/1z5-bo6DxipymrrxeUUmNtWdUWVe2Rz_e#scrollTo=p1AiKjfbrpFg\n",
        "\n",
        "### # Kaggle\n",
        "https://www.kaggle.com/minsukheo/titanic-solution-with-sklearn-classifiers\n",
        "\n",
        "### # Sklearn\n",
        "https://scikit-learn.org/stable/modules/generated/sklearn.tree.DecisionTreeClassifier.html\n",
        "\n",
        "### # label enconder\n",
        "https://www.youtube.com/watch?v=RWaMw02_MQQ"
      ]
    },
    {
      "cell_type": "markdown",
      "metadata": {
        "id": "B3yy9Ssuoi1H"
      },
      "source": [
        "# Simbóra!"
      ]
    }
  ]
}